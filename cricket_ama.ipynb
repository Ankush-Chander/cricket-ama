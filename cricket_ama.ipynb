{
 "cells": [
  {
   "cell_type": "markdown",
   "id": "c1974a0c-2c4b-4c62-af5d-ee48ab26ebb0",
   "metadata": {},
   "source": [
    "# Goal: ask me anything cricket based on wikipedia"
   ]
  },
  {
   "cell_type": "markdown",
   "id": "fc05e376-645d-4037-88a3-1203e41ca81b",
   "metadata": {},
   "source": [
    "## Prepare data"
   ]
  },
  {
   "cell_type": "code",
   "execution_count": null,
   "id": "c7ea9e12-5185-49b1-a0a8-4d56dfa7b876",
   "metadata": {},
   "outputs": [],
   "source": [
    "# Dowload latest wiki dump from here\n",
    "# downloads around 20 GB compressed file. Time taking process. took me 1 day \n",
    "! wget -c https://dumps.wikimedia.org/enwiki/latest/enwiki-latest-pages-articles-multistream.xml.bz2\n",
    "\n",
    "# extract files using wikiextractor (take a few hours)\n",
    "! python3 -m wikiextractor.WikiExtractor enwiki-20180601-pages-articles-multistream.xml.bz2 --json\n",
    "\n",
    "# get cricket records in a separate file\n",
    "# take a few minutes\n",
    "! grep -i cricket text/*/* > cricket.jsonl\n"
   ]
  },
  {
   "cell_type": "markdown",
   "id": "8c2b621f-cd8b-48b7-9c84-10dce9dc9d66",
   "metadata": {},
   "source": [
    "## Analyze data"
   ]
  },
  {
   "cell_type": "code",
   "execution_count": 17,
   "id": "62a07862-2fa4-421e-a253-818d555f03b3",
   "metadata": {},
   "outputs": [
    {
     "name": "stdout",
     "output_type": "stream",
     "text": [
      "dict_keys(['id', 'revid', 'url', 'title', 'text'])\n"
     ]
    }
   ],
   "source": [
    "# analyze cricket records\n",
    "import ujson\n",
    "with open(\"data/cricket.jsonl\") as fp:\n",
    "    for line in fp.readlines():\n",
    "        # print(line)\n",
    "        record = ujson.loads(line)\n",
    "        print(record.keys())\n",
    "        break\n",
    "        "
   ]
  },
  {
   "cell_type": "markdown",
   "id": "a0d65d1e-f508-4289-a64b-0ccc7ed09f15",
   "metadata": {},
   "source": [
    "## Load llm"
   ]
  },
  {
   "cell_type": "code",
   "execution_count": 18,
   "id": "d639284c-f64f-44a9-88b8-4f88fce5d8f2",
   "metadata": {},
   "outputs": [],
   "source": [
    "from haystack.nodes import PromptNode\n",
    "from getpass import getpass"
   ]
  },
  {
   "cell_type": "code",
   "execution_count": 19,
   "id": "89fca95e-add0-435f-a4a0-01d7b89f1eb7",
   "metadata": {},
   "outputs": [
    {
     "name": "stdin",
     "output_type": "stream",
     "text": [
      "Your Hugging Face Token ········\n"
     ]
    }
   ],
   "source": [
    "HF_TOKEN = getpass(\"Your Hugging Face Token\")"
   ]
  },
  {
   "cell_type": "code",
   "execution_count": 20,
   "id": "eb8f6f3f-a8a1-42e8-9cef-d84e70fb28c4",
   "metadata": {},
   "outputs": [],
   "source": [
    "pn = PromptNode(model_name_or_path=\"mistralai/Mistral-7B-Instruct-v0.1\",  # instruct fine-tuned model: https://huggingface.co/mistralai/Mistral-7B-Instruct-v0.1\n",
    "                max_length=800,\n",
    "                api_key=HF_TOKEN)"
   ]
  },
  {
   "cell_type": "code",
   "execution_count": 21,
   "id": "6f34bae2-90af-456b-bf8d-97b25268f0aa",
   "metadata": {},
   "outputs": [
    {
     "name": "stdout",
     "output_type": "stream",
     "text": [
      " Cricket is a sport that is widely popular in India and other parts of the world, and it's not hard to see why. With its slow-paced gameplay, long breaks, and endless amount of time spent on the field, it's the perfect sport for people who love to watch TV or play video games. And let's not forget the excitement of watching a team of players who are so slow and clumsy that they can barely run, let alone hit the ball. It's truly a spectacle to behold. So if you're looking for a sport that will keep you entertained for hours on end, while also providing a constant reminder of how much better other sports are, then Cricket is the perfect choice for you!\n"
     ]
    }
   ],
   "source": [
    "# Let's quickly try the model\n",
    "\n",
    "out=pn(\"[INST] Explain in a ironic way why Cricket rocks! [/INST]\")\n",
    "\n",
    "print(out[0])"
   ]
  },
  {
   "cell_type": "markdown",
   "id": "2c3272f5-1570-45f9-8ed2-191e8b897357",
   "metadata": {},
   "source": [
    "## Store data in a document store"
   ]
  },
  {
   "cell_type": "code",
   "execution_count": 22,
   "id": "d08d30e0-d8bf-48ad-868e-fb1934413f58",
   "metadata": {},
   "outputs": [],
   "source": [
    "import glob,json\n",
    "from haystack import Document\n",
    "from haystack.nodes import PreProcessor\n",
    "\n",
    "docs = []\n",
    "\n",
    "data_file = \"data/cricket.jsonl\"\n",
    "with open(data_file, \"r\") as fp:\n",
    "    for line in fp.readlines():\n",
    "        line_json = ujson.loads(line)\n",
    "        # index only text, store rest as meta\n",
    "        doc_json = {\"content\": line_json.get(\"text\",\"\"), \"meta\": {key:value for key,value in line_json.items() if key!=\"text\"}}\n",
    "        doc = Document.from_json(doc_json)\n",
    "        docs.append(doc)\n"
   ]
  },
  {
   "cell_type": "code",
   "execution_count": 23,
   "id": "206ad331-358d-4be3-8c7d-464a3893487f",
   "metadata": {},
   "outputs": [
    {
     "name": "stderr",
     "output_type": "stream",
     "text": [
      "Preprocessing:   0%|▏                                    | 288/70781 [00:02<12:21, 95.05docs/s]We found one or more sentences whose word count is higher than the split length.\n",
      "Preprocessing:   2%|▋                                  | 1496/70781 [00:09<05:39, 204.14docs/s]Document 7eb86f5c0c893931bd3117dedfdb61a2 is 23254 characters long after preprocessing, where the maximum length should be 10000. Something might be wrong with the splitting, check the document affected to prevent issues at query time. This document will be now hard-split at 10000 chars recursively.\n",
      "Document 86972c9084ba1f6cbbb0bf9173945c9f is 13254 characters long after preprocessing, where the maximum length should be 10000. Something might be wrong with the splitting, check the document affected to prevent issues at query time. This document will be now hard-split at 10000 chars recursively.\n",
      "Document 26ce52f0ad36bdb4616bbab44136debe is 40319 characters long after preprocessing, where the maximum length should be 10000. Something might be wrong with the splitting, check the document affected to prevent issues at query time. This document will be now hard-split at 10000 chars recursively.\n",
      "Document b2c18ca23201b7009c485b019593548 is 30319 characters long after preprocessing, where the maximum length should be 10000. Something might be wrong with the splitting, check the document affected to prevent issues at query time. This document will be now hard-split at 10000 chars recursively.\n",
      "Document 8e5d60ed59b65e16cc5ab41a73a7d1e1 is 20319 characters long after preprocessing, where the maximum length should be 10000. Something might be wrong with the splitting, check the document affected to prevent issues at query time. This document will be now hard-split at 10000 chars recursively.\n",
      "Document b9e0e06976c1fbdba9b81404e8303062 is 10319 characters long after preprocessing, where the maximum length should be 10000. Something might be wrong with the splitting, check the document affected to prevent issues at query time. This document will be now hard-split at 10000 chars recursively.\n",
      "Preprocessing:   8%|██▋                                | 5361/70781 [00:21<02:42, 401.69docs/s]Document dd32d855c52cf30d790b5715a7c0d7bd is 28036 characters long after preprocessing, where the maximum length should be 10000. Something might be wrong with the splitting, check the document affected to prevent issues at query time. This document will be now hard-split at 10000 chars recursively.\n",
      "Document ac563bf5f47f4b0cdb4c8b4f60bf0fbc is 18036 characters long after preprocessing, where the maximum length should be 10000. Something might be wrong with the splitting, check the document affected to prevent issues at query time. This document will be now hard-split at 10000 chars recursively.\n",
      "Preprocessing:  11%|███▊                               | 7734/70781 [00:27<01:35, 657.92docs/s]Document 12828706405b724f58f8982d2e93ca2b is 16151 characters long after preprocessing, where the maximum length should be 10000. Something might be wrong with the splitting, check the document affected to prevent issues at query time. This document will be now hard-split at 10000 chars recursively.\n",
      "Document a526864ffd1061d61f285c6db620cbdd is 12428 characters long after preprocessing, where the maximum length should be 10000. Something might be wrong with the splitting, check the document affected to prevent issues at query time. This document will be now hard-split at 10000 chars recursively.\n",
      "Document 3fbfd34af9c829a3754508c037c62f44 is 10624 characters long after preprocessing, where the maximum length should be 10000. Something might be wrong with the splitting, check the document affected to prevent issues at query time. This document will be now hard-split at 10000 chars recursively.\n",
      "Preprocessing:  18%|██████▎                           | 13043/70781 [00:33<01:21, 705.20docs/s]Document 75e9713b5e46626ba00cab74f4d022c9 is 20606 characters long after preprocessing, where the maximum length should be 10000. Something might be wrong with the splitting, check the document affected to prevent issues at query time. This document will be now hard-split at 10000 chars recursively.\n",
      "Document d0607698740fce0a9567148aa793d722 is 10606 characters long after preprocessing, where the maximum length should be 10000. Something might be wrong with the splitting, check the document affected to prevent issues at query time. This document will be now hard-split at 10000 chars recursively.\n",
      "Preprocessing:  75%|████████████████████████▌        | 52737/70781 [01:03<00:08, 2123.11docs/s]Document 4ffcda75b6400f507f28aac2be26193f is 25993 characters long after preprocessing, where the maximum length should be 10000. Something might be wrong with the splitting, check the document affected to prevent issues at query time. This document will be now hard-split at 10000 chars recursively.\n",
      "Document 49ef04d996dc7a13ff9e3fc8214f83e2 is 15993 characters long after preprocessing, where the maximum length should be 10000. Something might be wrong with the splitting, check the document affected to prevent issues at query time. This document will be now hard-split at 10000 chars recursively.\n",
      "Document c1b182462983a8d66dd4098362373204 is 14640 characters long after preprocessing, where the maximum length should be 10000. Something might be wrong with the splitting, check the document affected to prevent issues at query time. This document will be now hard-split at 10000 chars recursively.\n",
      "Preprocessing: 100%|█████████████████████████████████| 70781/70781 [01:08<00:00, 1036.84docs/s]\n"
     ]
    }
   ],
   "source": [
    "processor = PreProcessor(\n",
    "    clean_empty_lines=True,\n",
    "    clean_whitespace=True,\n",
    "    clean_header_footer=True,\n",
    "    split_by=\"word\",\n",
    "    split_length=200,\n",
    "    split_respect_sentence_boundary=True,\n",
    "    split_overlap=0,\n",
    "    language=\"en\",\n",
    ")\n",
    "preprocessed_docs = processor.process(docs)"
   ]
  },
  {
   "cell_type": "markdown",
   "id": "7c8b0c10-2e2e-4f9c-bdb7-641f2ee228cf",
   "metadata": {},
   "source": [
    "## Create an InMemoryDocumentStore and store data"
   ]
  },
  {
   "cell_type": "code",
   "execution_count": 32,
   "id": "95120176-757a-4e17-85f9-333a6cccd5b9",
   "metadata": {},
   "outputs": [
    {
     "name": "stderr",
     "output_type": "stream",
     "text": [
      "Updating BM25 representation...: 100%|███████████| 244779/244779 [00:07<00:00, 34220.05 docs/s]\n"
     ]
    }
   ],
   "source": [
    "from haystack.document_stores import InMemoryDocumentStore\n",
    "\n",
    "document_store = InMemoryDocumentStore(use_bm25=True)\n",
    "document_store.write_documents(preprocessed_docs)"
   ]
  },
  {
   "cell_type": "markdown",
   "id": "83db4483-8ec8-47df-92d8-682221dc8111",
   "metadata": {},
   "source": [
    "## Create a RAG Pipeline"
   ]
  },
  {
   "cell_type": "code",
   "execution_count": 33,
   "id": "1a53e5be-a708-40d0-950c-bf145836651b",
   "metadata": {},
   "outputs": [],
   "source": [
    "\n",
    "from haystack import Pipeline\n",
    "from haystack.nodes import BM25Retriever, PromptNode, PromptTemplate"
   ]
  },
  {
   "cell_type": "code",
   "execution_count": 34,
   "id": "3f7ae9bf-e582-4b9d-9c88-a0c7009d6d62",
   "metadata": {},
   "outputs": [],
   "source": [
    "retriever = BM25Retriever(document_store, top_k=4)\n",
    "     "
   ]
  },
  {
   "cell_type": "code",
   "execution_count": 35,
   "id": "9dadeb67-cca2-4dc0-a615-6687cf5ff55d",
   "metadata": {},
   "outputs": [],
   "source": [
    "# a good Question Answering template, adapted for the instruction format\n",
    "# (https://huggingface.co/mistralai/Mistral-7B-Instruct-v0.1)\n",
    "\n",
    "qa_template = PromptTemplate(prompt=\n",
    "  \"\"\"[INST] Using the information contained in the context, answer the question (using a maximum of two sentences).\n",
    "  If the answer cannot be deduced from the context, answer \\\"I don't know.\\\"\n",
    "  Context: {join(documents)};\n",
    "  Question: {query}\n",
    "  [/INST]\"\"\")"
   ]
  },
  {
   "cell_type": "code",
   "execution_count": 36,
   "id": "09bd9ca6-a775-4063-8bcb-21fd7c37ade2",
   "metadata": {},
   "outputs": [],
   "source": [
    "prompt_node = PromptNode(model_name_or_path=\"mistralai/Mistral-7B-Instruct-v0.1\",\n",
    "                         api_key=HF_TOKEN,\n",
    "                         default_prompt_template=qa_template,\n",
    "                         max_length=5500,\n",
    "                         model_kwargs={\"model_max_length\":8000})"
   ]
  },
  {
   "cell_type": "code",
   "execution_count": 37,
   "id": "2236368a-2c09-4f84-b16d-dd2c1e05bdb4",
   "metadata": {},
   "outputs": [],
   "source": [
    "rag_pipeline = Pipeline()\n",
    "rag_pipeline.add_node(component=retriever, name=\"retriever\", inputs=[\"Query\"])\n",
    "rag_pipeline.add_node(component=prompt_node, name=\"prompt_node\", inputs=[\"retriever\"])"
   ]
  },
  {
   "cell_type": "markdown",
   "id": "19475fe5-ff09-48ea-869a-212bca4f38b7",
   "metadata": {},
   "source": [
    "## Time for AMA"
   ]
  },
  {
   "cell_type": "code",
   "execution_count": 38,
   "id": "614ad7de-9be5-447b-ad13-751a05608345",
   "metadata": {},
   "outputs": [],
   "source": [
    "from pprint import pprint\n",
    "print_answer = lambda out: pprint(out[\"results\"][0].strip())"
   ]
  },
  {
   "cell_type": "code",
   "execution_count": 68,
   "id": "e2fdc82a-c23c-4074-8c28-9b594ff5c3f3",
   "metadata": {},
   "outputs": [
    {
     "name": "stdout",
     "output_type": "stream",
     "text": [
      "'Sachin Tendulkar hit 51 centuries in Test cricket.'\n"
     ]
    }
   ],
   "source": [
    "x = rag_pipeline.run(query=\"How many centuries did Sachin Tendulkar hit in Test cricket?\",  params={\n",
    "        \"retriever\": {\n",
    "            \"debug\": True\n",
    "        },\n",
    "        \"prompt_node\": {\n",
    "            \"debug\": True\n",
    "        }\n",
    "    })\n",
    "print_answer(x)"
   ]
  },
  {
   "cell_type": "code",
   "execution_count": 48,
   "id": "41d7d806-71eb-4f3a-8abe-c4ac8c6f7970",
   "metadata": {},
   "outputs": [
    {
     "name": "stdout",
     "output_type": "stream",
     "text": [
      "('Sachin Tendulkar scored his 100th international century on 16 March 2012, '\n",
      " 'against Bangladesh in the Asia Cup, becoming the first person in history to '\n",
      " 'achieve this feat. However, he found it mentally tough because everyone was '\n",
      " 'talking about his 100th hundred, and nobody talked about his 99 hundreds.')\n"
     ]
    }
   ],
   "source": [
    "print_answer(rag_pipeline.run(query=\"Tell me something funny about Sachin Tendulkar?\"))"
   ]
  },
  {
   "cell_type": "code",
   "execution_count": 71,
   "id": "56f0a897-0745-45a2-8d2b-f3f44eb3df45",
   "metadata": {},
   "outputs": [
    {
     "name": "stdout",
     "output_type": "stream",
     "text": [
      "('Matthew Hayden is a former Australian international cricketer known for his '\n",
      " 'powerful and aggressive left-handed opening batting style. He holds several '\n",
      " 'records in international cricket, including the highest score made by an '\n",
      " 'Australian batsman in Tests (380) and the record for the highest individual '\n",
      " 'test score by an opening batsman in test history. Hayden retired from all '\n",
      " 'forms of cricket in September 2012 and was inducted into the Australian '\n",
      " 'Cricket Hall of Fame in 2017.')\n"
     ]
    }
   ],
   "source": [
    "print_answer(rag_pipeline.run(query=\"Who is Matthew Hayden?\"))"
   ]
  }
 ],
 "metadata": {
  "kernelspec": {
   "display_name": "Python 3 (ipykernel)",
   "language": "python",
   "name": "python3"
  },
  "language_info": {
   "codemirror_mode": {
    "name": "ipython",
    "version": 3
   },
   "file_extension": ".py",
   "mimetype": "text/x-python",
   "name": "python",
   "nbconvert_exporter": "python",
   "pygments_lexer": "ipython3",
   "version": "3.10.12"
  }
 },
 "nbformat": 4,
 "nbformat_minor": 5
}
